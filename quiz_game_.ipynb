{
  "nbformat": 4,
  "nbformat_minor": 0,
  "metadata": {
    "colab": {
      "provenance": []
    },
    "kernelspec": {
      "name": "python3",
      "display_name": "Python 3"
    },
    "language_info": {
      "name": "python"
    }
  },
  "cells": [
    {
      "cell_type": "code",
      "execution_count": 3,
      "metadata": {
        "colab": {
          "base_uri": "https://localhost:8080/"
        },
        "id": "due56uDfuRQx",
        "outputId": "7804f4d6-4a60-421b-de7f-ed0e72e63d82"
      },
      "outputs": [
        {
          "output_type": "stream",
          "name": "stdout",
          "text": [
            "Welcome to my computer quiz!\n",
            "Do you want to play? YES\n",
            "Okay! Let's play :)\n",
            "What does CPU stand for? CENTRAL PROCESSING UNIT\n",
            "Correct!\n",
            "What does GPU stand for? GRAPHICS PROCESSING UNIT\n",
            "Correct!\n",
            "What does RAM stand for? RANDOM ACCESS MEMORY\n",
            "Correct!\n",
            "What does PSU stand for? POWER SUPPLY\n",
            "Correct!\n",
            "You got 4 questions correct!\n",
            "You got 100.0%.\n"
          ]
        }
      ],
      "source": [
        "print(\"Welcome to my computer quiz!\")\n",
        "\n",
        "playing = input(\"Do you want to play? \")\n",
        "\n",
        "if playing.lower() != \"yes\":\n",
        "    quit()\n",
        "\n",
        "print(\"Okay! Let's play :)\")\n",
        "score = 0\n",
        "\n",
        "answer = input(\"What does CPU stand for? \")\n",
        "if answer.lower() == \"central processing unit\":\n",
        "    print('Correct!')\n",
        "    score += 1\n",
        "else:\n",
        "    print(\"Incorrect!\")\n",
        "\n",
        "answer = input(\"What does GPU stand for? \")\n",
        "if answer.lower() == \"graphics processing unit\":\n",
        "    print('Correct!')\n",
        "    score += 1\n",
        "else:\n",
        "    print(\"Incorrect!\")\n",
        "\n",
        "answer = input(\"What does RAM stand for? \")\n",
        "if answer.lower() == \"random access memory\":\n",
        "    print('Correct!')\n",
        "    score += 1\n",
        "else:\n",
        "    print(\"Incorrect!\")\n",
        "\n",
        "answer = input(\"What does PSU stand for? \")\n",
        "if answer.lower() == \"power supply\":\n",
        "    print('Correct!')\n",
        "    score += 1\n",
        "else:\n",
        "    print(\"Incorrect!\")\n",
        "\n",
        "print(\"You got \" + str(score) + \" questions correct!\")\n",
        "print(\"You got \" + str((score / 4) * 100) + \"%.\")"
      ]
    }
  ]
}